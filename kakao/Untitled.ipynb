{
 "cells": [
  {
   "cell_type": "code",
   "execution_count": 9,
   "metadata": {},
   "outputs": [
    {
     "name": "stdout",
     "output_type": "stream",
     "text": [
      "[1, 8]\n"
     ]
    }
   ],
   "source": [
    "namet2 = [1, 2,3,4,7,1,2,35,4,1,2,5,1,5,5,4,1,1,6,4,1,1]\n",
    "\n",
    "dic = [namet2[0], namet2.count(namet2[0])]\n",
    "\n",
    "for na in namet2:\n",
    "    if na != dic[0] and namet2.count(na) > dic[1]:\n",
    "        dic[0] = na\n",
    "        dic[1] = namet2.count(na)\n",
    "    \n",
    "print(dic)"
   ]
  }
 ],
 "metadata": {
  "kernelspec": {
   "display_name": "Python 3",
   "language": "python",
   "name": "python3"
  },
  "language_info": {
   "codemirror_mode": {
    "name": "ipython",
    "version": 3
   },
   "file_extension": ".py",
   "mimetype": "text/x-python",
   "name": "python",
   "nbconvert_exporter": "python",
   "pygments_lexer": "ipython3",
   "version": "3.7.4"
  }
 },
 "nbformat": 4,
 "nbformat_minor": 2
}
